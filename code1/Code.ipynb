{
 "cells": [
  {
   "cell_type": "code",
   "execution_count": null,
   "metadata": {
    "_cell_guid": "b1076dfc-b9ad-4769-8c92-a6c4dae69d19",
    "_uuid": "8f2839f25d086af736a60e9eeb907d3b93b6e0e5",
    "execution": {
     "iopub.execute_input": "2023-05-04T23:25:06.828752Z",
     "iopub.status.busy": "2023-05-04T23:25:06.828254Z",
     "iopub.status.idle": "2023-05-04T23:25:06.866939Z",
     "shell.execute_reply": "2023-05-04T23:25:06.865865Z",
     "shell.execute_reply.started": "2023-05-04T23:25:06.828708Z"
    },
    "id": "916hUGOIXOrM"
   },
   "outputs": [],
   "source": [
    "import numpy as np \n",
    "import os \n",
    "from PIL import Image \n",
    "import matplotlib.pyplot as plt\n",
    "import matplotlib.image as mpimg \n",
    "from random import randint\n",
    "from sklearn.model_selection import train_test_split\n",
    "from keras import layers\n",
    "from keras import models\n",
    "import tensorflow as tf\n",
    " "
   ]
  },
  {
   "cell_type": "markdown",
   "metadata": {
    "id": "juby9SRbXOrO"
   },
   "source": [
    "# **Loading the Dataset and Preprocessing**"
   ]
  },
  {
   "cell_type": "code",
   "execution_count": null,
   "metadata": {
    "execution": {
     "iopub.execute_input": "2023-05-04T23:25:07.036899Z",
     "iopub.status.busy": "2023-05-04T23:25:07.036217Z",
     "iopub.status.idle": "2023-05-04T23:25:07.060453Z",
     "shell.execute_reply": "2023-05-04T23:25:07.059558Z",
     "shell.execute_reply.started": "2023-05-04T23:25:07.036861Z"
    },
    "id": "kFxXiOpBXOrQ",
    "outputId": "fdc79e1f-d590-4b77-dcd8-b2e0266782d2"
   },
   "outputs": [],
   "source": [
    "lookup = dict()\n",
    "reverselookup = dict()\n",
    "count = 0\n",
    "for j in os.listdir('archive/leapgestrecog/leapGestRecog/00/'):\n",
    "    if not j.startswith('.'): \n",
    "        lookup[j] = count\n",
    "        reverselookup[count] = j\n",
    "        count = count + 1\n",
    "lookup"
   ]
  },
  {
   "cell_type": "code",
   "execution_count": null,
   "metadata": {
    "execution": {
     "iopub.execute_input": "2023-05-04T23:25:07.851117Z",
     "iopub.status.busy": "2023-05-04T23:25:07.850459Z",
     "iopub.status.idle": "2023-05-04T23:28:25.899033Z",
     "shell.execute_reply": "2023-05-04T23:28:25.897869Z",
     "shell.execute_reply.started": "2023-05-04T23:25:07.851068Z"
    },
    "id": "AvlDf7_aXOrR"
   },
   "outputs": [],
   "source": [
    "x_data = []\n",
    "y_data = []\n",
    "datacount = 0 # \n",
    "for i in range(0, 10): \n",
    "    for j in os.listdir('archive/leapgestrecog/leapGestRecog/0' + str(i) + '/'):\n",
    "        if not j.startswith('.'): \n",
    "            count = 0 \n",
    "            for k in os.listdir('archive/leapgestrecog/leapGestRecog/0' + \n",
    "                                str(i) + '/' + j + '/'):\n",
    "                img = Image.open('archive/leapgestrecog/leapGestRecog/0' + \n",
    "                                 str(i) + '/' + j + '/' + k).convert('L')\n",
    "                img = img.resize((320, 120))\n",
    "                arr = np.array(img)\n",
    "                x_data.append(arr) \n",
    "                count = count + 1\n",
    "            y_values = np.full((count, 1), lookup[j]) \n",
    "            y_data.append(y_values)\n",
    "            datacount = datacount + count\n",
    "x_data = np.array(x_data, dtype = 'float32')\n",
    "y_data = np.array(y_data)\n",
    "y_data = y_data.reshape(datacount, 1)"
   ]
  },
  {
   "cell_type": "code",
   "execution_count": null,
   "metadata": {
    "execution": {
     "iopub.execute_input": "2023-05-04T23:28:25.901739Z",
     "iopub.status.busy": "2023-05-04T23:28:25.901173Z",
     "iopub.status.idle": "2023-05-04T23:28:28.617286Z",
     "shell.execute_reply": "2023-05-04T23:28:28.616221Z",
     "shell.execute_reply.started": "2023-05-04T23:28:25.901672Z"
    },
    "id": "7QdGjiSTXOrR",
    "outputId": "65956b86-fc1a-406e-ff99-f46452b6d6a2"
   },
   "outputs": [],
   "source": [
    "for i in range(0, 10):\n",
    "    plt.imshow(x_data[i*200 , :, :])\n",
    "    plt.title(reverselookup[y_data[i*200 ,0]])\n",
    "    plt.show()"
   ]
  },
  {
   "cell_type": "code",
   "execution_count": null,
   "metadata": {
    "execution": {
     "iopub.execute_input": "2023-05-04T23:28:28.618824Z",
     "iopub.status.busy": "2023-05-04T23:28:28.618475Z",
     "iopub.status.idle": "2023-05-04T23:28:37.042009Z",
     "shell.execute_reply": "2023-05-04T23:28:37.040741Z",
     "shell.execute_reply.started": "2023-05-04T23:28:28.618794Z"
    },
    "id": "YYrM1IRiXOrS",
    "outputId": "0ee3b279-1d3f-447d-ea86-624e28b0f312"
   },
   "outputs": [],
   "source": [
    "import keras\n",
    "from keras.utils import to_categorical\n",
    "y_data = to_categorical(y_data)"
   ]
  },
  {
   "cell_type": "code",
   "execution_count": null,
   "metadata": {
    "execution": {
     "iopub.execute_input": "2023-05-04T23:28:37.044781Z",
     "iopub.status.busy": "2023-05-04T23:28:37.044121Z",
     "iopub.status.idle": "2023-05-04T23:28:37.333607Z",
     "shell.execute_reply": "2023-05-04T23:28:37.332490Z",
     "shell.execute_reply.started": "2023-05-04T23:28:37.044747Z"
    },
    "id": "1IwhQEFRXOrS"
   },
   "outputs": [],
   "source": [
    "x_data = x_data.reshape((datacount, 120, 320, 1))\n",
    "x_data /= 255"
   ]
  },
  {
   "cell_type": "code",
   "execution_count": null,
   "metadata": {
    "execution": {
     "iopub.execute_input": "2023-05-04T23:28:37.335558Z",
     "iopub.status.busy": "2023-05-04T23:28:37.334918Z",
     "iopub.status.idle": "2023-05-04T23:28:39.679222Z",
     "shell.execute_reply": "2023-05-04T23:28:39.677999Z",
     "shell.execute_reply.started": "2023-05-04T23:28:37.335514Z"
    },
    "id": "bTtY3PRbXOrS"
   },
   "outputs": [],
   "source": [
    "x_train,x_further,y_train,y_further = train_test_split(x_data,y_data,test_size = 0.2)\n",
    "x_validate,x_test,y_validate,y_test = train_test_split(x_further,y_further,test_size = 0.5)"
   ]
  },
  {
   "cell_type": "markdown",
   "metadata": {
    "id": "tvZOREPSXOrT"
   },
   "source": [
    "# Defining the Model"
   ]
  },
  {
   "cell_type": "markdown",
   "metadata": {
    "id": "NqSpYWw8XOrT"
   },
   "source": [
    "**Base Model**"
   ]
  },
  {
   "cell_type": "code",
   "execution_count": null,
   "metadata": {
    "id": "8fzwo3wYXOrT"
   },
   "outputs": [],
   "source": [
    "model=models.Sequential()\n",
    "model.add(layers.Conv2D(32, (5, 5), strides=(2, 2), activation='relu', input_shape=(120, 320,1),name = 'conv1')) \n",
    "model.add(layers.MaxPooling2D((2, 2),name = 'pool1'))\n",
    "model.add(layers.Conv2D(64, (3, 3), activation='relu',name = 'conv2')) \n",
    "model.add(layers.MaxPooling2D((2, 2),name = 'pool2'))\n",
    "model.add(layers.Conv2D(64, (3, 3), activation='relu',name = 'conv3'))\n",
    "model.add(layers.MaxPooling2D((2, 2),name = 'pool3'))\n",
    "model.add(layers.Flatten())\n",
    "model.add(layers.Dense(128, activation='relu',name = 'dense1'))\n",
    "model.add(layers.Dense(10, activation='softmax', name ='output'))\n",
    "model.summary()"
   ]
  },
  {
   "cell_type": "markdown",
   "metadata": {
    "id": "qh9T50APXOrU"
   },
   "source": [
    "**Updated Model**"
   ]
  },
  {
   "cell_type": "code",
   "execution_count": null,
   "metadata": {
    "execution": {
     "iopub.execute_input": "2023-05-04T23:28:39.688656Z",
     "iopub.status.busy": "2023-05-04T23:28:39.688164Z",
     "iopub.status.idle": "2023-05-04T23:28:40.264410Z",
     "shell.execute_reply": "2023-05-04T23:28:40.263399Z",
     "shell.execute_reply.started": "2023-05-04T23:28:39.688613Z"
    },
    "id": "2pCTwfpxXOrU",
    "outputId": "2ab2efbb-0ed2-41f2-c430-95405ee35ba2"
   },
   "outputs": [],
   "source": [
    "model=models.Sequential()\n",
    "model.add(layers.Conv2D(22, (5, 5), strides=(2, 2), activation='relu', input_shape=(120, 320,1) , name='conv1')) \n",
    "model.add(layers.MaxPooling2D((2, 2), name='pool1'))\n",
    "model.add(layers.Conv2D(18, (2, 2), activation='relu', name='conv2')) \n",
    "model.add(layers.MaxPooling2D((2, 2), name='pool2'))\n",
    "model.add(layers.Conv2D(16, (3, 3), activation='relu', name='conv3'))\n",
    "model.add(layers.MaxPooling2D((2, 2),name ='pool3'))\n",
    "model.add(layers.Flatten())\n",
    "model.add(layers.Dense(2, activation='relu',name ='dense1'))\n",
    "model.add(layers.Dense(8, activation='relu', name = 'dense2'))\n",
    "model.add(layers.Dense(6, activation='relu' , name = 'dense3'))\n",
    "model.add(layers.Dense(10, activation='softmax',name = 'output'))\n",
    "model.summary()"
   ]
  },
  {
   "cell_type": "markdown",
   "metadata": {
    "id": "s-urkxR5XOrU"
   },
   "source": [
    "**Training the Model**"
   ]
  },
  {
   "cell_type": "code",
   "execution_count": null,
   "metadata": {
    "execution": {
     "iopub.execute_input": "2023-05-04T23:28:40.266502Z",
     "iopub.status.busy": "2023-05-04T23:28:40.266077Z",
     "iopub.status.idle": "2023-05-04T23:43:06.299020Z",
     "shell.execute_reply": "2023-05-04T23:43:06.297651Z",
     "shell.execute_reply.started": "2023-05-04T23:28:40.266459Z"
    },
    "id": "ylkM1GfMXOrU",
    "outputId": "de7dee65-8253-4356-9b15-b897a1715b46"
   },
   "outputs": [],
   "source": [
    "model.compile(optimizer='rmsprop',\n",
    "              loss='categorical_crossentropy',\n",
    "              metrics=['accuracy'])\n",
    "model.fit(x_train, y_train, epochs=10, batch_size=64, verbose=1, validation_data=(x_validate, y_validate))"
   ]
  },
  {
   "cell_type": "code",
   "execution_count": null,
   "metadata": {
    "execution": {
     "iopub.execute_input": "2023-05-04T23:43:06.300827Z",
     "iopub.status.busy": "2023-05-04T23:43:06.300445Z",
     "iopub.status.idle": "2023-05-04T23:43:11.047056Z",
     "shell.execute_reply": "2023-05-04T23:43:11.045919Z",
     "shell.execute_reply.started": "2023-05-04T23:43:06.300796Z"
    },
    "id": "Tmfu86pCXOrV",
    "outputId": "3ab53038-0c43-469f-b9c6-a74374650733"
   },
   "outputs": [],
   "source": [
    "[loss, acc] = model.evaluate(x_test,y_test,verbose=1)"
   ]
  },
  {
   "cell_type": "markdown",
   "metadata": {
    "id": "Ds6QNr_gXOrV"
   },
   "source": [
    "Saving the original weights of model"
   ]
  },
  {
   "cell_type": "code",
   "execution_count": null,
   "metadata": {
    "execution": {
     "iopub.execute_input": "2023-05-05T00:06:44.327109Z",
     "iopub.status.busy": "2023-05-05T00:06:44.326559Z",
     "iopub.status.idle": "2023-05-05T00:06:44.339483Z",
     "shell.execute_reply": "2023-05-05T00:06:44.337972Z",
     "shell.execute_reply.started": "2023-05-05T00:06:44.327072Z"
    },
    "id": "LKemfvy0XOrV"
   },
   "outputs": [],
   "source": [
    "original_w = model.get_weights()"
   ]
  },
  {
   "cell_type": "markdown",
   "metadata": {
    "id": "7wSsabw1XOrV"
   },
   "source": [
    "Saving the model as h5 file."
   ]
  },
  {
   "cell_type": "code",
   "execution_count": null,
   "metadata": {
    "execution": {
     "iopub.execute_input": "2023-05-04T23:48:56.436819Z",
     "iopub.status.busy": "2023-05-04T23:48:56.436393Z",
     "iopub.status.idle": "2023-05-04T23:48:56.494336Z",
     "shell.execute_reply": "2023-05-04T23:48:56.493169Z",
     "shell.execute_reply.started": "2023-05-04T23:48:56.436777Z"
    },
    "id": "aSSyOtKwXOrV"
   },
   "outputs": [],
   "source": [
    "model.save('MyModel',save_format='h5')"
   ]
  },
  {
   "cell_type": "markdown",
   "metadata": {
    "id": "l78yheieXOrW"
   },
   "source": [
    "# **Changing the weights of model layer by layer**"
   ]
  },
  {
   "cell_type": "code",
   "execution_count": null,
   "metadata": {
    "execution": {
     "iopub.execute_input": "2023-05-04T20:47:28.045402Z",
     "iopub.status.busy": "2023-05-04T20:47:28.044953Z",
     "iopub.status.idle": "2023-05-04T20:49:51.983167Z",
     "shell.execute_reply": "2023-05-04T20:49:51.981428Z",
     "shell.execute_reply.started": "2023-05-04T20:47:28.045372Z"
    },
    "id": "O-zjz-RqXOrW",
    "outputId": "13b6d863-a58a-4259-84d7-15cc720ecdc5"
   },
   "outputs": [],
   "source": [
    "num_layers=3\n",
    "accuracys=[]\n",
    "x=num_layers\n",
    "for i in range(len(original_w)-2,len(original_w)-1-2*num_layers,-2):\n",
    "  accuracy=[]\n",
    "  print(\"Layer :\",x)\n",
    "  for scalar in [0.001,0.01,0.1,.5, .75,1.5,1.75,2.,4.]:\n",
    "    new_w=[]\n",
    "    for w in range(len(original_w)):\n",
    "      if(w==i):\n",
    "        new_w.append(original_w[w]+scalar)\n",
    "      else:\n",
    "        new_w.append(original_w[w])\n",
    "    model.set_weights(new_w)\n",
    "    evaluation = model.evaluate(x_test, y_test)\n",
    "    print(\"Scallar {} --> test accuracy {}\".format(scalar,evaluation[1]))\n",
    "    accuracy.append(evaluation[1])\n",
    "    model.set_weights(original_w)\n",
    "  x-=1\n",
    "  model.set_weights(original_w)\n",
    "  accuracys.append(accuracy)"
   ]
  },
  {
   "cell_type": "markdown",
   "metadata": {
    "id": "2vJpBCoPXOrW"
   },
   "source": [
    "**Plotting the graph of accuracy vs Scalars**"
   ]
  },
  {
   "cell_type": "code",
   "execution_count": null,
   "metadata": {
    "execution": {
     "iopub.execute_input": "2023-05-04T20:49:57.174614Z",
     "iopub.status.busy": "2023-05-04T20:49:57.174013Z",
     "iopub.status.idle": "2023-05-04T20:49:57.463602Z",
     "shell.execute_reply": "2023-05-04T20:49:57.462508Z",
     "shell.execute_reply.started": "2023-05-04T20:49:57.174582Z"
    },
    "id": "2UPOQu2XXOrX",
    "outputId": "c792cc97-e3de-495d-c7ee-80fb07043df8"
   },
   "outputs": [],
   "source": [
    "scalars= [0.001,0.01,0.1,.5, .75,1.5,1.75,2.,4.]\n",
    "for i in range(len(accuracys)):\n",
    "  plt.plot(scalars, accuracys[i], label=f'layer {num_layers-i}')\n",
    "plt.xlabel('Scalar')\n",
    "plt.ylabel('Accuracy')\n",
    "plt.title('Effect on accuracy when weights are added by scalers')\n",
    "plt.legend()\n",
    "plt.show()"
   ]
  },
  {
   "cell_type": "markdown",
   "metadata": {
    "id": "3mBWmbD6XOrX"
   },
   "source": [
    "Average accuracy of model when weights are altered in different layers."
   ]
  },
  {
   "cell_type": "code",
   "execution_count": null,
   "metadata": {
    "execution": {
     "iopub.execute_input": "2023-05-04T20:21:19.222097Z",
     "iopub.status.busy": "2023-05-04T20:21:19.221711Z",
     "iopub.status.idle": "2023-05-04T20:21:19.228359Z",
     "shell.execute_reply": "2023-05-04T20:21:19.227539Z",
     "shell.execute_reply.started": "2023-05-04T20:21:19.222064Z"
    },
    "id": "S-5CqyPzXOrX",
    "outputId": "4b0cc9d2-753b-4d9c-bbd4-f896edc6690a"
   },
   "outputs": [],
   "source": [
    "average=[]\n",
    "for i in accuracys:\n",
    "  average.append(sum(i)/len(i))\n",
    "print(average)"
   ]
  },
  {
   "cell_type": "markdown",
   "metadata": {
    "id": "sW4gF4NvXOrY"
   },
   "source": [
    "# Changing all the weights of model simultaneously."
   ]
  },
  {
   "cell_type": "code",
   "execution_count": null,
   "metadata": {
    "execution": {
     "iopub.execute_input": "2023-05-05T00:07:13.213640Z",
     "iopub.status.busy": "2023-05-05T00:07:13.213246Z",
     "iopub.status.idle": "2023-05-05T00:08:32.970802Z",
     "shell.execute_reply": "2023-05-05T00:08:32.968820Z",
     "shell.execute_reply.started": "2023-05-05T00:07:13.213609Z"
    },
    "id": "iafF--6bXOrY",
    "outputId": "6859ae11-3339-4a19-c5db-175a16ff4f2b"
   },
   "outputs": [],
   "source": [
    "scalars=[]\n",
    "accuracys=[]\n",
    "for scalar in [0.00001,0.0001,0.001, 0.05, 0.1, .25, 0.5, .75, 1., 1.1,1.5,2,3,4]:\n",
    "    new_w = [scalar*w for w in original_w]\n",
    "    model.set_weights(new_w)\n",
    "    evaluation = model.evaluate(x_test, y_test)\n",
    "    print(\"Scallar {} --> test accuracy {}\".format(scalar,evaluation[1]))\n",
    "    scalars.append(scalar)\n",
    "    accuracys.append(evaluation[1])"
   ]
  },
  {
   "cell_type": "markdown",
   "metadata": {
    "id": "-NTZrtm3XOrZ"
   },
   "source": [
    "**Ploting the graph between accuracy and scalars used.**"
   ]
  },
  {
   "cell_type": "code",
   "execution_count": null,
   "metadata": {
    "execution": {
     "iopub.execute_input": "2023-05-05T00:08:32.975209Z",
     "iopub.status.busy": "2023-05-05T00:08:32.974745Z",
     "iopub.status.idle": "2023-05-05T00:08:33.251025Z",
     "shell.execute_reply": "2023-05-05T00:08:33.249754Z",
     "shell.execute_reply.started": "2023-05-05T00:08:32.975162Z"
    },
    "id": "lWVoxVVdXOrZ",
    "outputId": "cdb9e513-6520-44ff-89b7-ea367364a0ad",
    "scrolled": true
   },
   "outputs": [],
   "source": [
    "scalars=[]\n",
    "accuracys=[]\n",
    "plt.plot(scalars, accuracys)\n",
    "plt.xlabel('Scalar')\n",
    "plt.ylabel('Accuracy')\n",
    "plt.title('Effect on accuracy when weights are multiplied by scalers')\n",
    "plt.show()"
   ]
  },
  {
   "cell_type": "markdown",
   "metadata": {
    "id": "LlrAy3FLXOrZ"
   },
   "source": [
    "# Optimizating the model by Quantization"
   ]
  },
  {
   "cell_type": "code",
   "execution_count": null,
   "metadata": {},
   "outputs": [],
   "source": [
    "model.summary()"
   ]
  },
  {
   "cell_type": "markdown",
   "metadata": {
    "id": "-m790pUJXOra"
   },
   "source": [
    "# HLS FOR ML CODE "
   ]
  },
  {
   "cell_type": "code",
   "execution_count": null,
   "metadata": {},
   "outputs": [],
   "source": [
    "x_test_normalized = x_test / 255"
   ]
  },
  {
   "cell_type": "code",
   "execution_count": null,
   "metadata": {
    "scrolled": true
   },
   "outputs": [],
   "source": [
    "# import hls4ml\n",
    "\n",
    "# # config = hls4ml.utils.config_from_keras_model(model, granularity='model')\n",
    "# # print(\"-----------------------------------\")\n",
    "# # print(\"Configuration\")\n",
    "# # # plotting.print_dict(config)\n",
    "# # print(\"-----------------------------------\")\n",
    "# # hls_model = hls4ml.converters.convert_from_keras_model(\n",
    "# #     model, hls_config=config, output_dir='model_1/hls4ml_prj', part='xczu7ev-ffvc1156-2-e'\n",
    "# # )\n",
    "\n",
    "# config = hls4ml.utils.config_from_keras_model(model, granularity='name')\n",
    "# config['Model']['ReuseFactor'] = 1\n",
    "# config['LayerName']['conv1']['Strategy'] = 'Latency'\n",
    "# config['LayerName']['conv2']['Strategy'] = 'Latency'\n",
    "# config['LayerName']['pool1']['Strategy'] = 'Latency'\n",
    "# config['LayerName']['pool2']['Strategy'] = 'Latency'\n",
    "# config['LayerName']['pool3']['Strategy'] = 'Latency'\n",
    "# config['LayerName']['conv3']['Strategy'] = 'Latency'\n",
    "# config['Model']['Precision'] = 'ap_fixed<16,6>'\n",
    "# config['LayerName']['output']['Strategy'] = 'Stable'\n",
    "# config['IOType'] = 'io_stream'  # Must set this if using CNNs!\n",
    "# #config['HLSConfig'] = config\n",
    "# #config['KerasModel'] = model\n",
    "# #config['OutputDir'] = 'normal_cnn/'\n",
    "\n",
    "# for layer in config['LayerName']:\n",
    "#    # config['LayerName'][layer]['Trace'] = True\n",
    "#    config['LayerName'][layer]['ReuseFactor'] = 64\n",
    "# print(\"-----------------------------------\")\n",
    "# #plotting.print_dict(config)\n",
    "# print(\"-----------------------------------\")\n",
    "\n",
    "\n",
    "\n",
    "# hls_model = hls4ml.converters.convert_from_keras_model(model,\n",
    "#                                                        hls_config=config,\n",
    "#                                                        output_dir='model_3/hls4ml_prj_pynq',\n",
    "#                                                        backend='VivadoAccelerator',\n",
    "#                                                        part='xczu7ev-ffvc1156-2-e')\n",
    "\n",
    "\n",
    "\n",
    "import hls4ml\n",
    "\n",
    "# config = hls4ml.utils.config_from_keras_model(model, granularity='model')\n",
    "# print(\"-----------------------------------\")\n",
    "# print(\"Configuration\")\n",
    "# # plotting.print_dict(config)\n",
    "# print(\"-----------------------------------\")\n",
    "# hls_model = hls4ml.converters.convert_from_keras_model(\n",
    "#     model, hls_config=config, output_dir='model_1/hls4ml_prj', part='xczu7ev-ffvc1156-2-e'\n",
    "# )\n",
    "\n",
    "\n",
    "hls_config = hls4ml.utils.config_from_keras_model(model, granularity='name')\n",
    "hls_config['Model']['ReuseFactor'] = 2584\n",
    "hls_config['LayerName']['conv1']['Strategy'] = 'Latency'\n",
    "hls_config['LayerName']['conv2']['Strategy'] = 'Latency'\n",
    "\n",
    "hls_config['LayerName']['pool1']['Strategy'] = 'Latency'\n",
    "\n",
    "\n",
    "hls_config['Model']['Precision'] = 'ap_fixed<8,2>'\n",
    "hls_config['LayerName']['output']['Strategy'] = 'Stable'\n",
    "# #plotting.print_dict(hls_config_aq) \n",
    " \n",
    "cfg = hls4ml.converters.create_config(backend='VivadoAccelerator')\n",
    "cfg['IOType'] = 'io_stream'  # Must set this if using CNNs!\n",
    "cfg['HLSConfig'] = hls_config\n",
    "cfg['KerasModel'] = model\n",
    "cfg['OutputDir'] = 'normal_cnn/'\n",
    "cfg['Part'] = 'xczu7ev-ffvc1156-2-e'\n",
    "\n",
    "hls_model = hls4ml.converters.keras_to_hls(cfg)\n",
    "\n",
    "\n",
    "\n",
    "hls_config = hls4ml.utils.config_from_keras_model(model, granularity='model')\n",
    "hls_config['Flows'] = ['vivadoaccelerator:fifo_depth_optimization']\n",
    "print(\"-----------------------------------\")\n",
    "\n",
    "hls4ml.model.optimizer.get_optimizer('vivado:fifo_depth_optimization').configure(profiling_fifo_depth=100_000)\n",
    " \n",
    "\n",
    "print(\"----------------compilation starts-------------------\")\n",
    "hls_model.compile()\n",
    "# X_test = np.ascontiguousarray(x_test_normalized)\n",
    "# y_hls = hls_model.predict(X_test)\n",
    "print(\"----------------compilation done-------------------\")\n",
    "\n",
    " \n"
   ]
  },
  {
   "cell_type": "code",
   "execution_count": null,
   "metadata": {
    "id": "5gaP2FaoXOra"
   },
   "outputs": [],
   "source": [
    "hls_model.build(csim=False, synth=True, vsynth=True)"
   ]
  },
  {
   "cell_type": "code",
   "execution_count": null,
   "metadata": {},
   "outputs": [],
   "source": [
    "hls4ml.report.read_vivado_report( 'normal_cnn/hls4ml_prj')"
   ]
  },
  {
   "cell_type": "code",
   "execution_count": null,
   "metadata": {},
   "outputs": [],
   "source": []
  },
  {
   "cell_type": "code",
   "execution_count": null,
   "metadata": {},
   "outputs": [],
   "source": []
  },
  {
   "cell_type": "code",
   "execution_count": null,
   "metadata": {},
   "outputs": [],
   "source": []
  },
  {
   "cell_type": "code",
   "execution_count": null,
   "metadata": {},
   "outputs": [],
   "source": []
  },
  {
   "cell_type": "code",
   "execution_count": null,
   "metadata": {},
   "outputs": [],
   "source": []
  },
  {
   "cell_type": "code",
   "execution_count": null,
   "metadata": {},
   "outputs": [],
   "source": []
  },
  {
   "cell_type": "code",
   "execution_count": null,
   "metadata": {},
   "outputs": [],
   "source": []
  },
  {
   "cell_type": "code",
   "execution_count": null,
   "metadata": {},
   "outputs": [],
   "source": []
  },
  {
   "cell_type": "code",
   "execution_count": null,
   "metadata": {},
   "outputs": [],
   "source": []
  },
  {
   "cell_type": "code",
   "execution_count": null,
   "metadata": {},
   "outputs": [],
   "source": []
  },
  {
   "cell_type": "code",
   "execution_count": null,
   "metadata": {},
   "outputs": [],
   "source": []
  },
  {
   "cell_type": "code",
   "execution_count": null,
   "metadata": {},
   "outputs": [],
   "source": []
  },
  {
   "cell_type": "code",
   "execution_count": null,
   "metadata": {},
   "outputs": [],
   "source": []
  },
  {
   "cell_type": "code",
   "execution_count": null,
   "metadata": {},
   "outputs": [],
   "source": []
  }
 ],
 "metadata": {
  "colab": {
   "provenance": []
  },
  "kernelspec": {
   "display_name": "Python 3 (ipykernel)",
   "language": "python",
   "name": "python3"
  },
  "language_info": {
   "codemirror_mode": {
    "name": "ipython",
    "version": 3
   },
   "file_extension": ".py",
   "mimetype": "text/x-python",
   "name": "python",
   "nbconvert_exporter": "python",
   "pygments_lexer": "ipython3",
   "version": "3.10.9"
  }
 },
 "nbformat": 4,
 "nbformat_minor": 1
}
